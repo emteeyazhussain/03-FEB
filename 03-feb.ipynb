{
 "cells": [
  {
   "cell_type": "markdown",
   "id": "3ff2ab07-4c4f-4ef6-888e-4b4e38a8c926",
   "metadata": {},
   "source": [
    "Q1. Which keyword is used to create a function? Create a function to return a list of odd numbers in the\n",
    "range of 1 to 25."
   ]
  },
  {
   "cell_type": "raw",
   "id": "5282c7a0-6d78-49e5-9ef4-b31828b66bf5",
   "metadata": {},
   "source": [
    "The keyword used to create a function in Python is def."
   ]
  },
  {
   "cell_type": "code",
   "execution_count": 17,
   "id": "a77bae52-c66a-4a9d-b008-fda7894b345a",
   "metadata": {},
   "outputs": [],
   "source": [
    "def get_odd_numbers():\n",
    "    odd_numbers = []\n",
    "    for number in range(1, 26):\n",
    "        if number % 2 == 1:\n",
    "            odd_numbers.append(number)\n",
    "    return odd_numbers\n"
   ]
  },
  {
   "cell_type": "code",
   "execution_count": 18,
   "id": "75435323-9ac7-4529-b1a3-167748e52e0c",
   "metadata": {},
   "outputs": [
    {
     "data": {
      "text/plain": [
       "[1, 3, 5, 7, 9, 11, 13, 15, 17, 19, 21, 23, 25]"
      ]
     },
     "execution_count": 18,
     "metadata": {},
     "output_type": "execute_result"
    }
   ],
   "source": [
    "get_odd_numbers()"
   ]
  },
  {
   "cell_type": "raw",
   "id": "240a648e-b118-4941-8d90-86aa0c97b65c",
   "metadata": {},
   "source": [
    "Q2. Why *args and **kwargs is used in some functions? Create a function each for *args and **kwargs\n",
    "to demonstrate their use."
   ]
  },
  {
   "cell_type": "markdown",
   "id": "d852e203-886a-4723-bbd7-6f088a4d64f1",
   "metadata": {},
   "source": [
    "*args and **kwargs are special syntax in Python used to pass a variable number of arguments to a function.\n",
    "\n",
    "*args is used to pass a variable number of non-keyworded arguments to a function. It allows you to pass an arbitrary number of arguments to the function. These arguments are then collected into a tuple which can be accessed within the function.\n",
    "\n",
    "For example:"
   ]
  },
  {
   "cell_type": "code",
   "execution_count": 19,
   "id": "04e08fde-b6f5-45b9-a3da-5cd48aae5a3c",
   "metadata": {},
   "outputs": [
    {
     "name": "stdout",
     "output_type": "stream",
     "text": [
      "24\n",
      "30\n",
      "10\n"
     ]
    }
   ],
   "source": [
    "def multiply_numbers(*args):\n",
    "    result = 1\n",
    "    for number in args:\n",
    "        result *= number\n",
    "    return result\n",
    "print(multiply_numbers(2, 3, 4)) \n",
    "print(multiply_numbers(5, 6))\n",
    "print(multiply_numbers(10)) \n"
   ]
  },
  {
   "cell_type": "raw",
   "id": "43d19aef-4eec-4328-a0b8-b1ffdf01438d",
   "metadata": {},
   "source": [
    "**kwargs is used to pass a variable number of keyword arguments to a function. It allows you to pass an arbitrary number of keyword arguments to the function. These arguments are then collected into a dictionary which can be accessed within the function.\n",
    "\n",
    "For example:"
   ]
  },
  {
   "cell_type": "code",
   "execution_count": 21,
   "id": "54fee9a8-a7a5-4b91-b04b-38b14981d833",
   "metadata": {},
   "outputs": [
    {
     "name": "stdout",
     "output_type": "stream",
     "text": [
      "name: imteh\n",
      "age: 20\n",
      "name: irfan\n",
      "age: 21\n",
      "name: ajaz\n",
      "age: 22\n",
      "name: hanifa\n",
      "age: 23\n"
     ]
    }
   ],
   "source": [
    "def my_function(**kwargs):\n",
    "    for key, value in kwargs.items():\n",
    "        print(f\"{key}: {value}\")\n",
    "\n",
    "my_function(name=\"imteh\", age=20) \n",
    "my_function(name=\"irfan\", age=21) \n",
    "my_function(name=\"ajaz\", age=22) \n",
    "my_function(name=\"hanifa\", age=23) "
   ]
  },
  {
   "cell_type": "raw",
   "id": "293d53ad-1d49-4250-a041-ad1c88157e74",
   "metadata": {},
   "source": [
    "Q3. What is an iterator in python? Name the method used to initialise the iterator object and the method\n",
    "used for iteration. Use these methods to print the first five elements of the given list [2, 4, 6, 8, 10, 12, 14,\n",
    "16, 18, 20]."
   ]
  },
  {
   "cell_type": "markdown",
   "id": "acfde8e9-62b0-4ffe-8ce8-a10db6934317",
   "metadata": {},
   "source": [
    "An iterator in Python is an object that implements the iterator protocol, which consists of two methods: __iter__() and __next__(). An object that implements these methods is said to be iterable.\n",
    "\n",
    "The __iter__() method initializes the iterator object, and the __next__() method returns the next element in the sequence. When there are no more elements, __next__() raises the StopIteration exception to signal the end of the iteration.\n",
    "\n",
    "Here's an example of   can use an iterator to print the first five elements of the given list:"
   ]
  },
  {
   "cell_type": "code",
   "execution_count": 26,
   "id": "b340bbf4-9732-4e15-878d-723562f2de41",
   "metadata": {},
   "outputs": [
    {
     "name": "stdout",
     "output_type": "stream",
     "text": [
      "2\n",
      "4\n",
      "6\n",
      "8\n",
      "10\n"
     ]
    }
   ],
   "source": [
    "my_list = [2, 4, 6, 8, 10, 12, 14, 16, 18, 20]\n",
    "\n",
    "# Create an iterator object using iter()\n",
    "my_iterator = iter(my_list)\n",
    "\n",
    "# Use next() to iterate over the first five elements\n",
    "print(next(my_iterator)) \n",
    "print(next(my_iterator))\n",
    "print(next(my_iterator))\n",
    "print(next(my_iterator)) \n",
    "print(next(my_iterator))\n"
   ]
  },
  {
   "cell_type": "code",
   "execution_count": 29,
   "id": "f9604733-a3eb-4a94-b58c-4e060643bc9d",
   "metadata": {},
   "outputs": [
    {
     "name": "stdout",
     "output_type": "stream",
     "text": [
      "[2, 4, 6, 8, 10]\n"
     ]
    }
   ],
   "source": [
    "##Also use the index slices \n",
    "print(my_list[0:5])"
   ]
  },
  {
   "cell_type": "raw",
   "id": "39ba05c3-b389-490a-af7b-3b7c451f140a",
   "metadata": {},
   "source": [
    "Q4. What is a generator function in python? Why yield keyword is used? Give an example of a generator\n",
    "function."
   ]
  },
  {
   "cell_type": "markdown",
   "id": "313835f1-67dc-463b-becb-534159022a29",
   "metadata": {},
   "source": [
    " generator function in Python is a special type of function that returns an iterator instead of a value. Unlike normal functions, which return a value and then exit, a generator function returns a generator object, which can be used to iterate over a sequence of values.\n",
    "\n",
    "The key feature of a generator function is that it uses the yield keyword to \"yield\" (return) a value from the function without exiting the function. When the generator is iterated over, the function will be executed up to the point where the yield keyword is encountered, at which point the value will be returned to the caller. The next time the generator is iterated over, execution will resume after the yield statement, and the function will continue running until it hits another yield statement or exits.\n",
    "\n",
    "Here's an example of a generator function that generates a sequence of even numbers:"
   ]
  },
  {
   "cell_type": "code",
   "execution_count": 30,
   "id": "d561aa26-9bcd-4a08-a269-08553cda5aa8",
   "metadata": {},
   "outputs": [],
   "source": [
    "def even_numbers(n):\n",
    "    i = 0\n",
    "    while i < n:\n",
    "        yield i * 2\n",
    "        i += 1\n"
   ]
  },
  {
   "cell_type": "code",
   "execution_count": 31,
   "id": "e86fceb5-119b-4c25-8096-d77b6268e292",
   "metadata": {},
   "outputs": [
    {
     "name": "stdout",
     "output_type": "stream",
     "text": [
      "0\n",
      "2\n",
      "4\n",
      "6\n",
      "8\n"
     ]
    }
   ],
   "source": [
    "for number in even_numbers(5):\n",
    "    print(number)\n"
   ]
  },
  {
   "cell_type": "raw",
   "id": "9d445d08-c1df-4028-9cdc-c07759e4b62d",
   "metadata": {},
   "source": [
    "Q5. Create a generator function for prime numbers less than 1000. Use the next() method to print the\n",
    "first 20 prime numbers."
   ]
  },
  {
   "cell_type": "code",
   "execution_count": 32,
   "id": "7ea6f096-ff60-4403-8f1f-9f17f972a157",
   "metadata": {},
   "outputs": [],
   "source": [
    "def primes_less_than_1000():\n",
    "    # The first prime number is 2\n",
    "    yield 2\n",
    "    # Iterate over odd numbers starting from 3\n",
    "    for i in range(3, 1000, 2):\n",
    "        # Check if the number is prime\n",
    "        for j in range(2, int(i ** 0.5) + 1):\n",
    "            if i % j == 0:\n",
    "                break\n",
    "        else:\n",
    "            # If the number is prime, yield it\n",
    "            yield i\n"
   ]
  },
  {
   "cell_type": "code",
   "execution_count": 33,
   "id": "e09eddad-7427-4b24-a3a3-e98f19128d21",
   "metadata": {},
   "outputs": [
    {
     "name": "stdout",
     "output_type": "stream",
     "text": [
      "2\n",
      "3\n",
      "5\n",
      "7\n",
      "11\n",
      "13\n",
      "17\n",
      "19\n",
      "23\n",
      "29\n",
      "31\n",
      "37\n",
      "41\n",
      "43\n",
      "47\n",
      "53\n",
      "59\n",
      "61\n",
      "67\n",
      "71\n"
     ]
    }
   ],
   "source": [
    "# Create a generator object\n",
    "my_generator = primes_less_than_1000()\n",
    "\n",
    "# Use next() to generate the first 20 prime numbers\n",
    "for i in range(20):\n",
    "    print(next(my_generator))\n"
   ]
  },
  {
   "cell_type": "raw",
   "id": "3501062f-4fd1-4acd-80d6-bfc3ab6f17f3",
   "metadata": {},
   "source": [
    "Q6. Write a python program to print the first 10 Fibonacci numbers using a while loop."
   ]
  },
  {
   "cell_type": "code",
   "execution_count": 34,
   "id": "808d3daa-ff7b-4754-b329-0554ab6d7664",
   "metadata": {},
   "outputs": [
    {
     "name": "stdout",
     "output_type": "stream",
     "text": [
      "0\n",
      "1\n",
      "1\n",
      "2\n",
      "3\n",
      "5\n",
      "8\n",
      "13\n",
      "21\n",
      "34\n"
     ]
    }
   ],
   "source": [
    "# Initialize the first two numbers in the sequence\n",
    "a, b = 0, 1\n",
    "\n",
    "# Use a while loop to generate the first 10 Fibonacci numbers\n",
    "count = 0\n",
    "while count < 10:\n",
    "    # Print the current Fibonacci number\n",
    "    print(a)\n",
    "    \n",
    "    # Update the sequence by swapping a and b and computing the new value of b\n",
    "    a, b = b, a + b\n",
    "    \n",
    "    # Increment the counter\n",
    "    count += 1\n"
   ]
  },
  {
   "cell_type": "code",
   "execution_count": 35,
   "id": "00aa0ebb-e81d-4f27-be94-78dd0c038140",
   "metadata": {},
   "outputs": [
    {
     "name": "stdout",
     "output_type": "stream",
     "text": [
      "['p', 'w', 's', 'k', 'i', 'l', 'l', 's']\n"
     ]
    }
   ],
   "source": [
    "# Q7.\n",
    "my_string = 'pwskills'\n",
    "result = [char for char in my_string]\n",
    "print(result)\n"
   ]
  },
  {
   "cell_type": "code",
   "execution_count": 39,
   "id": "ead33050-5551-40ce-95ed-7ac2aa38f76b",
   "metadata": {},
   "outputs": [
    {
     "name": "stdin",
     "output_type": "stream",
     "text": [
      "Enter a number:  10\n"
     ]
    },
    {
     "name": "stdout",
     "output_type": "stream",
     "text": [
      "10 is not a palindrome\n"
     ]
    }
   ],
   "source": [
    "##Q8.\n",
    "# Get the input number from the user\n",
    "num = int(input(\"Enter a number: \"))\n",
    "\n",
    "# Initialize variables\n",
    "temp = num\n",
    "reverse_num = 0\n",
    "\n",
    "# Reverse the number using a while loop\n",
    "while temp != 0:\n",
    "    digit = temp % 10\n",
    "    reverse_num = reverse_num * 10 + digit\n",
    "    temp //= 10\n",
    "\n",
    "# Check if the original number is equal to the reversed number\n",
    "if num == reverse_num:\n",
    "    print(f\"{num} is a palindrome\")\n",
    "else:\n",
    "    print(f\"{num} is not a palindrome\")\n"
   ]
  },
  {
   "cell_type": "code",
   "execution_count": 40,
   "id": "172dd6dd-1e8a-485b-a47d-ee1da915bba2",
   "metadata": {},
   "outputs": [
    {
     "name": "stdout",
     "output_type": "stream",
     "text": [
      "[1, 3, 5, 7, 9, 11, 13, 15, 17, 19, 21, 23, 25, 27, 29, 31, 33, 35, 37, 39, 41, 43, 45, 47, 49, 51, 53, 55, 57, 59, 61, 63, 65, 67, 69, 71, 73, 75, 77, 79, 81, 83, 85, 87, 89, 91, 93, 95, 97, 99]\n"
     ]
    }
   ],
   "source": [
    "##Q9.\n",
    "# Use a list comprehension to create a list of numbers from 1 to 100\n",
    "numbers = [num for num in range(1, 101)]\n",
    "\n",
    "# Use another list comprehension to filter out even numbers\n",
    "odd_numbers = [num for num in numbers if num % 2 == 1]\n",
    "\n",
    "# Print the list of odd numbers\n",
    "print(odd_numbers)\n"
   ]
  },
  {
   "cell_type": "code",
   "execution_count": null,
   "id": "37feafe1-807d-4dc8-9fa9-3a584c3d3744",
   "metadata": {},
   "outputs": [],
   "source": []
  }
 ],
 "metadata": {
  "kernelspec": {
   "display_name": "Python 3 (ipykernel)",
   "language": "python",
   "name": "python3"
  },
  "language_info": {
   "codemirror_mode": {
    "name": "ipython",
    "version": 3
   },
   "file_extension": ".py",
   "mimetype": "text/x-python",
   "name": "python",
   "nbconvert_exporter": "python",
   "pygments_lexer": "ipython3",
   "version": "3.10.8"
  }
 },
 "nbformat": 4,
 "nbformat_minor": 5
}
